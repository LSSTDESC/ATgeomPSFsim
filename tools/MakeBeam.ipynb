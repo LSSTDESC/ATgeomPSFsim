{
 "cells": [
  {
   "cell_type": "markdown",
   "metadata": {},
   "source": [
    "# Make Beam for BeamFour"
   ]
  },
  {
   "cell_type": "markdown",
   "metadata": {},
   "source": [
    "Generate that particular RAY file used by BeamFour.\n",
    "The convergent beam is generated.\n",
    "In this version inclined incident beam is implemented.\n",
    "\n",
    "The output file is generated using implemented function based on python formatted string.\n",
    "\n",
    "- author : Sylvie Dagoret-Campagne\n",
    "- creation date : August 26th 2020\n",
    "- update : August 27th 2020 : Add logging, coloredlogs, configparser\n"
   ]
  },
  {
   "cell_type": "code",
   "execution_count": 15,
   "metadata": {},
   "outputs": [
    {
     "name": "stderr",
     "output_type": "stream",
     "text": [
      "2020-08-29 11:10:17 MacBook-Pro-de-admin.local matplotlib.pyplot[33461] DEBUG Loaded backend module://ipykernel.pylab.backend_inline version unknown.\n"
     ]
    }
   ],
   "source": [
    "%matplotlib inline\n",
    "import matplotlib.pyplot as plt\n",
    "import mpl_toolkits.mplot3d as plt3d\n",
    "import numpy as np\n",
    "import os\n",
    "import matplotlib as mpl\n",
    "import pandas as pd\n",
    "import itertools"
   ]
  },
  {
   "cell_type": "code",
   "execution_count": 16,
   "metadata": {},
   "outputs": [],
   "source": [
    "from astropy import units as u\n",
    "from astropy.coordinates import Angle"
   ]
  },
  {
   "cell_type": "code",
   "execution_count": 17,
   "metadata": {},
   "outputs": [],
   "source": [
    "import logging\n",
    "import coloredlogs\n",
    "import configparser"
   ]
  },
  {
   "cell_type": "code",
   "execution_count": 18,
   "metadata": {},
   "outputs": [],
   "source": [
    "logging.basicConfig()\n",
    "logging.root.setLevel(logging.NOTSET)\n",
    "#logging.basicConfig(level=logging.NOTSET) # both commands above are equivalent"
   ]
  },
  {
   "cell_type": "code",
   "execution_count": 19,
   "metadata": {},
   "outputs": [],
   "source": [
    "handle = __name__"
   ]
  },
  {
   "cell_type": "code",
   "execution_count": 20,
   "metadata": {},
   "outputs": [],
   "source": [
    "logger = logging.getLogger(handle)\n",
    "#logging.getLogger().setLevel(logging.INFO)\n",
    "logger.setLevel(logging.WARNING)"
   ]
  },
  {
   "cell_type": "code",
   "execution_count": 21,
   "metadata": {},
   "outputs": [],
   "source": [
    "# If you don't want to see log messages from libraries, you can pass a\n",
    "# specific logger object to the install() function. In this case only log\n",
    "# messages originating from that logger will show up on the terminal.\n",
    "coloredlogs.install(level='DEBUG', logger=logger)"
   ]
  },
  {
   "cell_type": "code",
   "execution_count": 22,
   "metadata": {},
   "outputs": [],
   "source": [
    "# to enlarge the sizes\n",
    "params = {'legend.fontsize': 'x-large',\n",
    "          'figure.figsize': (8, 8),\n",
    "         'axes.labelsize': 'x-large',\n",
    "         'axes.titlesize':'x-large',\n",
    "         'xtick.labelsize':'x-large',\n",
    "         'ytick.labelsize':'x-large'}\n",
    "plt.rcParams.update(params)"
   ]
  },
  {
   "cell_type": "markdown",
   "metadata": {},
   "source": [
    "# configuration "
   ]
  },
  {
   "cell_type": "code",
   "execution_count": 23,
   "metadata": {},
   "outputs": [],
   "source": [
    "logger.info('Configuration')"
   ]
  },
  {
   "cell_type": "code",
   "execution_count": 24,
   "metadata": {},
   "outputs": [],
   "source": [
    "config = configparser.ConfigParser()"
   ]
  },
  {
   "cell_type": "code",
   "execution_count": 25,
   "metadata": {},
   "outputs": [],
   "source": [
    "config_filename=\"conf_AuxTel_2020_08_27.ini\""
   ]
  },
  {
   "cell_type": "code",
   "execution_count": 26,
   "metadata": {},
   "outputs": [],
   "source": [
    "if os.path.exists(config_filename):\n",
    "    config.read(config_filename)\n",
    "else:\n",
    "    msg =f\"config file {config_filename} does not exist !\"\n",
    "    logger.error(msg)\n",
    "    "
   ]
  },
  {
   "cell_type": "code",
   "execution_count": 29,
   "metadata": {},
   "outputs": [],
   "source": [
    "config_section = config.sections()\n",
    "logger.info(config_section)\n",
    "if len(config_section) == 0 :\n",
    "    msg =f\"empty config file {config_filename} !\"\n",
    "    logger.error(msg)"
   ]
  },
  {
   "cell_type": "code",
   "execution_count": 30,
   "metadata": {},
   "outputs": [
    {
     "data": {
      "text/plain": [
       "['GENERAL', 'BEAMFOUR', 'OPTICS', 'TELESCOPE']"
      ]
     },
     "execution_count": 30,
     "metadata": {},
     "output_type": "execute_result"
    }
   ],
   "source": [
    "config_section"
   ]
  },
  {
   "cell_type": "code",
   "execution_count": 31,
   "metadata": {},
   "outputs": [],
   "source": [
    "if 'GENERAL' in config_section:\n",
    "    \n",
    "    FLAG_DEBUG     = bool(config['GENERAL']['FLAG_DEBUG'])\n",
    "    FLAG_VERBOSE   = bool(config['GENERAL']['FLAG_VERBOSE'])\n",
    "    FLAG_PLOT      = bool(config['GENERAL']['FLAG_PLOT'])\n",
    "    FLAG_PRINT     = bool(config['GENERAL']['FLAG_PRINT'])\n",
    "else:\n",
    "    msg =f\"empty section GENERAL in config file {config_filename} !\"\n",
    "    logger.error(msg)\n",
    "    "
   ]
  },
  {
   "cell_type": "code",
   "execution_count": 32,
   "metadata": {},
   "outputs": [],
   "source": [
    "if FLAG_DEBUG:\n",
    "    logger.setLevel(logging.DEBUG)\n",
    "else:\n",
    "    logger.setLevel(logging.INFO)"
   ]
  },
  {
   "cell_type": "code",
   "execution_count": null,
   "metadata": {},
   "outputs": [],
   "source": [
    "if 'BEAMFOUR' in config_section:\n",
    "    output_dir    = config['BEAMFOUR']['outputdir']     # output directory\n",
    "    root_filename = config['BEAMFOUR']['outputrayfile'] # base ray filename\n",
    "    theta_x       = float(config['BEAMFOUR']['Theta_X']) # target offset in arcmin\n",
    "    theta_y       = float(config['BEAMFOUR']['Theta_Y']) # target offset in arcmin\n",
    "    NBEAM_X       = int(config['BEAMFOUR']['NBEAM_X'])  # nb of rays should be odd number\n",
    "    NBEAM_Y       = int(config['BEAMFOUR']['NBEAM_Y'])  # nb of rays should be odd number\n",
    "    WLMIN         = float(config['BEAMFOUR']['WLMIN'])   # minimum of wavelength in nm\n",
    "    WLMAX         = float(config['BEAMFOUR']['WLMAX'])   # maximum of wavelength in nm\n",
    "    WLSTEP        = float(config['BEAMFOUR']['WLSTEP'])  # wavelength step in nm\n",
    "else:\n",
    "    msg =f\"empty section BEAMFOUR in config file {config_filename} !\"\n",
    "    logger.error(msg)"
   ]
  },
  {
   "cell_type": "code",
   "execution_count": null,
   "metadata": {},
   "outputs": [],
   "source": [
    "output_dir"
   ]
  },
  {
   "cell_type": "code",
   "execution_count": null,
   "metadata": {},
   "outputs": [],
   "source": [
    "if not os.path.exists(output_dir):\n",
    "    os.makedirs(output_dir)"
   ]
  },
  {
   "cell_type": "code",
   "execution_count": null,
   "metadata": {},
   "outputs": [],
   "source": [
    "root_filename "
   ]
  },
  {
   "cell_type": "code",
   "execution_count": null,
   "metadata": {},
   "outputs": [],
   "source": [
    "# number of rays\n",
    "NBEAM=NBEAM_X*NBEAM_Y"
   ]
  },
  {
   "cell_type": "code",
   "execution_count": null,
   "metadata": {},
   "outputs": [],
   "source": [
    "Wavelength=np.arange(WLMIN,WLMAX,WLSTEP)\n",
    "WL=(Wavelength).astype(int)\n",
    "NWL=len(WL)"
   ]
  },
  {
   "cell_type": "code",
   "execution_count": null,
   "metadata": {},
   "outputs": [],
   "source": [
    "WL"
   ]
  },
  {
   "cell_type": "code",
   "execution_count": null,
   "metadata": {},
   "outputs": [],
   "source": [
    "theta_x_num=int(theta_x*100)\n",
    "theta_y_num=int(theta_y*100)"
   ]
  },
  {
   "cell_type": "code",
   "execution_count": null,
   "metadata": {},
   "outputs": [],
   "source": [
    "if theta_x_num>=0:\n",
    "    theta_nstr='{:0>2}'.format(theta_x_num)\n",
    "    theta_nstr=theta_nstr.zfill(4)\n",
    "    theta_x_str=\"p\"+theta_nstr\n",
    "else:\n",
    "    theta_nstr='{:0>2}'.format(-theta_x_num)\n",
    "    theta_nstr=theta_nstr.zfill(4)\n",
    "    theta_x_str=\"m\"+theta_nstr"
   ]
  },
  {
   "cell_type": "code",
   "execution_count": null,
   "metadata": {},
   "outputs": [],
   "source": [
    "if theta_y_num>=0:\n",
    "    theta_nstr='{:0>2}'.format(theta_y_num)\n",
    "    theta_nstr=theta_nstr.zfill(4)\n",
    "    theta_y_str=\"p\"+theta_nstr\n",
    "else:\n",
    "    theta_nstr='{:0>2}'.format(-theta_y_num)\n",
    "    theta_nstr=theta_nstr.zfill(4)\n",
    "    theta_y_str=\"m\"+theta_nstr"
   ]
  },
  {
   "cell_type": "code",
   "execution_count": null,
   "metadata": {},
   "outputs": [],
   "source": [
    "Beam4_Rayfile_EXCEL=root_filename+\"{:d}_nw{:d}_thx{}_thy{}.xlsx\".format(NBEAM,NWL,theta_x_str,theta_y_str)\n",
    "Beam4_Rayfile_RAY=root_filename+\"{:d}_nw{:d}_thx{}_thy{}.RAY\".format(NBEAM,NWL,theta_x_str,theta_y_str)"
   ]
  },
  {
   "cell_type": "code",
   "execution_count": null,
   "metadata": {},
   "outputs": [],
   "source": [
    "Beam4_Rayfile_EXCEL"
   ]
  },
  {
   "cell_type": "code",
   "execution_count": null,
   "metadata": {},
   "outputs": [],
   "source": [
    "Beam4_Rayfile_RAY"
   ]
  },
  {
   "cell_type": "markdown",
   "metadata": {},
   "source": [
    "## Configuration of Telescope"
   ]
  },
  {
   "cell_type": "code",
   "execution_count": null,
   "metadata": {},
   "outputs": [],
   "source": [
    "if 'TELESCOPE' in config_section:\n",
    "    Tel_Focal_Length = float(config['TELESCOPE']['Tel_Focal_Length']) \n",
    "    Tel_Diameter= float(config['TELESCOPE']['Tel_Diameter'])\n",
    "else:\n",
    "    msg =f\"empty section TELESCOPE in config file {config_filename} !\"\n",
    "    logger.error(msg)"
   ]
  },
  {
   "cell_type": "code",
   "execution_count": null,
   "metadata": {},
   "outputs": [],
   "source": [
    "Tel_Fnum=Tel_Focal_Length/Tel_Diameter"
   ]
  },
  {
   "cell_type": "code",
   "execution_count": null,
   "metadata": {},
   "outputs": [],
   "source": [
    "print(\"Aperture/D =  {} \".format(Tel_Fnum))"
   ]
  },
  {
   "cell_type": "markdown",
   "metadata": {},
   "source": [
    "## distance between the entrance plane and the focal plane"
   ]
  },
  {
   "cell_type": "code",
   "execution_count": null,
   "metadata": {},
   "outputs": [],
   "source": [
    "if 'OPTICS' in config_section:   \n",
    "    D_entrance = float(config['OPTICS']['D_entrance']) # mm : distance focal plane - entrance\n",
    "    D_disperser = float(config['OPTICS']['D_disperser'])# mm : distance focal plane - disperser\n",
    "else:\n",
    "    msg =f\"empty section OPTICS in config file {config_filename} !\"\n",
    "    logger.error(msg)"
   ]
  },
  {
   "cell_type": "code",
   "execution_count": null,
   "metadata": {},
   "outputs": [],
   "source": [
    "D_entrance"
   ]
  },
  {
   "cell_type": "code",
   "execution_count": null,
   "metadata": {},
   "outputs": [],
   "source": [
    "D_disperser"
   ]
  },
  {
   "cell_type": "code",
   "execution_count": null,
   "metadata": {},
   "outputs": [],
   "source": [
    "d=-D_entrance  # here set to be in mm (the BeamFour length units)"
   ]
  },
  {
   "cell_type": "markdown",
   "metadata": {},
   "source": [
    "# Functions"
   ]
  },
  {
   "cell_type": "code",
   "execution_count": null,
   "metadata": {},
   "outputs": [],
   "source": [
    "def set_aspect_equal_3d(ax):\n",
    "    \"\"\"Fix equal aspect bug for 3D plots.\"\"\"\n",
    "\n",
    "    xlim = ax.get_xlim3d()\n",
    "    ylim = ax.get_ylim3d()\n",
    "    zlim = ax.get_zlim3d()\n",
    "\n",
    "    from numpy import mean\n",
    "    xmean = mean(xlim)\n",
    "    ymean = mean(ylim)\n",
    "    zmean = mean(zlim)\n",
    "\n",
    "    plot_radius = max([abs(lim - mean_)\n",
    "                       for lims, mean_ in ((xlim, xmean),\n",
    "                                           (ylim, ymean),\n",
    "                                           (zlim, zmean))\n",
    "                       for lim in lims])\n",
    "\n",
    "    ax.set_xlim3d([xmean - plot_radius, xmean + plot_radius])\n",
    "    ax.set_ylim3d([ymean - plot_radius, ymean + plot_radius])\n",
    "    ax.set_zlim3d([zmean - plot_radius, zmean + plot_radius])"
   ]
  },
  {
   "cell_type": "code",
   "execution_count": null,
   "metadata": {},
   "outputs": [],
   "source": [
    "def EntranceBeamPopulation(nbeamx,nbeamy,f,D,d):\n",
    "    \"\"\"\n",
    "    EntranceBeamPopulation(nbeamx,nbeamy,thetax,thetay,f,D,d)\n",
    "    \n",
    "    input arguments :\n",
    "      - nbeamx : number of beam along x (should be odd, by example 11)\n",
    "      - nbeamy : number of beam along y (should be odd, by example 11)\n",
    "      - thetax : central beam angle along x in radian \n",
    "      - f : telescope focal length in m\n",
    "      - D : telescope diameter in m\n",
    "      - d : distance entrance (beam start) to focal plane. the unit of d is what we want\n",
    "      \n",
    "      \n",
    "    output arguments :\n",
    "      - return X,Y coordinate of beams relative to central beam (position (0,0)) in same unit as d\n",
    "    \"\"\"\n",
    "    \n",
    "    numberOfRows = nbeamx*nbeamy\n",
    "    \n",
    "    X=np.linspace(-D*d/2/f,D*d/2/f,nbeamx)\n",
    "    Y=np.linspace(-D*d/2/f,D*d/2/f,nbeamy)\n",
    "    \n",
    "    # need to alloc memory for the dataframe\n",
    "    df=pd.DataFrame(index=np.arange(0, numberOfRows),columns=['id','nx', 'ny', 'X0','Y0'])\n",
    "    \n",
    "    idx=0\n",
    "    for ny in np.arange(len(Y)):\n",
    "        for nx in np.arange(len(X)):         \n",
    "            df.iloc[idx]= [idx+1, nx,ny,X[nx],Y[ny]]\n",
    "            idx+=1\n",
    "            \n",
    "    df[\"Z0\"] = -d\n",
    "    \n",
    "    return df\n",
    "    "
   ]
  },
  {
   "cell_type": "code",
   "execution_count": null,
   "metadata": {},
   "outputs": [],
   "source": [
    "def ComputeAngles(df_in,alphax,alphay,d):\n",
    "    \"\"\"\n",
    "    ComputeAngles(df_in,thetax,thetay,d)\n",
    "    \n",
    "    * input argument :\n",
    "      - df_in :  input data frame (beam centered at beam entrance)\n",
    "      - alphax,alphay :  angles in radians of central ray relative to optical beam \n",
    "      - d : distance entrance -focal point in mm\n",
    "      \n",
    "    * output argument\n",
    "      -df : modified dataframe\n",
    "    \n",
    "    \n",
    "    \"\"\"\n",
    "    tan_alphax_0=np.tan(alphax)\n",
    "    tan_alphay_0=np.tan(alphay)\n",
    "    x=np.asarray(df_in[\"X0\"].values).astype(np.float64)\n",
    "    y=np.asarray(df_in[\"Y0\"].values).astype(np.float64)\n",
    "    \n",
    "    tan_alphax=np.array(tan_alphax_0-x/d)\n",
    "    tan_alphay=np.array(tan_alphay_0-y/d)\n",
    "    \n",
    "    \n",
    "    Uz=1./(np.sqrt(1.+tan_alphax**2+tan_alphay**2))\n",
    "    Ux=tan_alphax*Uz\n",
    "    Uy=tan_alphay*Uz\n",
    "    \n",
    "    df=df_in\n",
    "    df[\"U0\"]=Ux\n",
    "    df[\"V0\"]=Uy\n",
    "    df[\"W0\"]=Uz\n",
    "    \n",
    "    return df   "
   ]
  },
  {
   "cell_type": "code",
   "execution_count": null,
   "metadata": {},
   "outputs": [],
   "source": [
    "def ShiftBeamCenter(df_in,alphax,alphay,D_in,D_disp):\n",
    "    \"\"\"\n",
    "    ShiftBeamCenter(df_in,thetax,thetay,f,D_in,D_disp): shift the beam such\n",
    "    the central ray beam is at center of disperser\n",
    "    \n",
    "   \n",
    "    * input arguments:\n",
    "      - df_in : input data frame (beam centered at beam entrance)\n",
    "      - alphax,alphay :  angles in radians of central ray relative to optical beam \n",
    "      - d : distance entrance -focal point in mm\n",
    "      \n",
    "    * output argument:\n",
    "      -df : modified dataframe\n",
    "    \n",
    "    \"\"\"\n",
    "    \n",
    "    # shift in X,Y\n",
    "    # alphax < 0 : move up\n",
    "    # alphax > 0 : move down\n",
    "    dx=np.tan(alphax)*np.abs(D_disp-D_in)\n",
    "    dy=np.tan(alphay)*np.abs(D_disp-D_in)\n",
    "    df_out=df_in\n",
    "    \n",
    "    df_out[\"X0\"] = df_in.apply(lambda x: x.X0-dx , axis=1)\n",
    "    df_out[\"Y0\"] = df_in.apply(lambda x: x.Y0-dy , axis=1)\n",
    "    \n",
    "    return df_out\n",
    "    "
   ]
  },
  {
   "cell_type": "markdown",
   "metadata": {},
   "source": [
    "# Compute the beam Rays location and orientation"
   ]
  },
  {
   "cell_type": "markdown",
   "metadata": {},
   "source": [
    "## repartition of beams at entrance"
   ]
  },
  {
   "cell_type": "code",
   "execution_count": null,
   "metadata": {},
   "outputs": [],
   "source": [
    "df=EntranceBeamPopulation(NBEAM_X,NBEAM_Y,Tel_Focal_Length,Tel_Diameter,-D_entrance)"
   ]
  },
  {
   "cell_type": "code",
   "execution_count": null,
   "metadata": {},
   "outputs": [],
   "source": [
    "df"
   ]
  },
  {
   "cell_type": "markdown",
   "metadata": {},
   "source": [
    "## Orientation of beams"
   ]
  },
  {
   "cell_type": "code",
   "execution_count": null,
   "metadata": {},
   "outputs": [],
   "source": [
    "alpha_x=-Angle(theta_x,unit=u.arcmin)\n",
    "alpha_y=-Angle(theta_y,unit=u.arcmin)"
   ]
  },
  {
   "cell_type": "code",
   "execution_count": null,
   "metadata": {},
   "outputs": [],
   "source": [
    "df=ComputeAngles(df,alpha_x.radian,alpha_y.radian,d)"
   ]
  },
  {
   "cell_type": "code",
   "execution_count": null,
   "metadata": {},
   "outputs": [],
   "source": [
    "df"
   ]
  },
  {
   "cell_type": "markdown",
   "metadata": {},
   "source": [
    "### check the calculation of directions "
   ]
  },
  {
   "cell_type": "code",
   "execution_count": null,
   "metadata": {},
   "outputs": [],
   "source": [
    "# compute the norm\n",
    "df.apply(lambda x: np.sqrt(x.U0**2+x.V0**2+x.W0**2), axis=1)"
   ]
  },
  {
   "cell_type": "markdown",
   "metadata": {},
   "source": [
    "## Shift beam to have center ray at hologram center"
   ]
  },
  {
   "cell_type": "code",
   "execution_count": null,
   "metadata": {},
   "outputs": [],
   "source": [
    "alpha_x.decompose()"
   ]
  },
  {
   "cell_type": "code",
   "execution_count": null,
   "metadata": {},
   "outputs": [],
   "source": [
    "df=ShiftBeamCenter(df,alpha_x.radian,alpha_y.radian,D_entrance,D_disperser)"
   ]
  },
  {
   "cell_type": "markdown",
   "metadata": {},
   "source": [
    "### beams at entrance"
   ]
  },
  {
   "cell_type": "code",
   "execution_count": null,
   "metadata": {},
   "outputs": [],
   "source": [
    "fig=plt.figure(figsize=(16,8))\n",
    "\n",
    "ax=fig.add_subplot(121)\n",
    "ax.scatter(df[\"X0\"].values,df[\"Y0\"].values,color=\"r\")\n",
    "ax.grid()\n",
    "ax.set_xlabel(\"X0 (mm)\")\n",
    "ax.set_ylabel(\"Y0 (mm)\")\n",
    "ax.set_title(\"Beams position at Entrance\")\n",
    "ax.set_aspect('equal')\n",
    "\n",
    "\n",
    "ax=fig.add_subplot(122)\n",
    "X=np.asarray(df[\"X0\"].values).astype(np.float64)\n",
    "Y=np.asarray(df[\"Y0\"].values).astype(np.float64)\n",
    "U=np.asarray(df[\"U0\"].values).astype(np.float64)\n",
    "V=np.asarray(df[\"V0\"].values).astype(np.float64)\n",
    "\n",
    "ax.quiver(X,Y,U,V,color=\"b\")\n",
    "ax.grid()\n",
    "ax.set_xlabel(\"X0 (mm)\")\n",
    "ax.set_ylabel(\"Y0 (mm)\")\n",
    "ax.set_title(\"Beams direction at Entrance\")\n",
    "ax.set_aspect('equal')\n"
   ]
  },
  {
   "cell_type": "markdown",
   "metadata": {},
   "source": [
    "## Compute focal point position ad Z=d"
   ]
  },
  {
   "cell_type": "code",
   "execution_count": null,
   "metadata": {},
   "outputs": [],
   "source": [
    "df[\"X1\"]=df.apply(lambda x: (x.X0+d*x.U0/x.W0), axis=1)\n",
    "df[\"Y1\"]=df.apply(lambda x: (x.Y0+d*x.V0/x.W0), axis=1)\n",
    "df[\"Z1\"] = 0"
   ]
  },
  {
   "cell_type": "code",
   "execution_count": null,
   "metadata": {},
   "outputs": [],
   "source": [
    "D_entrance"
   ]
  },
  {
   "cell_type": "code",
   "execution_count": null,
   "metadata": {},
   "outputs": [],
   "source": [
    "df"
   ]
  },
  {
   "cell_type": "markdown",
   "metadata": {},
   "source": [
    "\n",
    "# Plot 3D"
   ]
  },
  {
   "cell_type": "code",
   "execution_count": null,
   "metadata": {},
   "outputs": [],
   "source": [
    "X0=np.asarray(df[\"X0\"].values).astype(np.float64)\n",
    "Y0=np.asarray(df[\"Y0\"].values).astype(np.float64)\n",
    "Z0=np.asarray(df[\"Z0\"].values).astype(np.float64)"
   ]
  },
  {
   "cell_type": "code",
   "execution_count": null,
   "metadata": {},
   "outputs": [],
   "source": [
    "U0=np.asarray(df[\"U0\"].values).astype(np.float64)\n",
    "V0=np.asarray(df[\"V0\"].values).astype(np.float64)\n",
    "W0=np.asarray(df[\"W0\"].values).astype(np.float64)"
   ]
  },
  {
   "cell_type": "code",
   "execution_count": null,
   "metadata": {},
   "outputs": [],
   "source": [
    "X1=np.asarray(df[\"X1\"].values).astype(np.float64)\n",
    "Y1=np.asarray(df[\"Y1\"].values).astype(np.float64)\n",
    "Z1=np.asarray(df[\"Z1\"].values).astype(np.float64)"
   ]
  },
  {
   "cell_type": "code",
   "execution_count": null,
   "metadata": {},
   "outputs": [],
   "source": [
    "N=len(df)"
   ]
  },
  {
   "cell_type": "code",
   "execution_count": null,
   "metadata": {},
   "outputs": [],
   "source": [
    "all_X=np.concatenate((X0,X1))\n",
    "all_Y=np.concatenate((Y0,Y1))\n",
    "all_Z=np.concatenate((Z0,Z1))"
   ]
  },
  {
   "cell_type": "code",
   "execution_count": null,
   "metadata": {
    "scrolled": false
   },
   "outputs": [],
   "source": [
    "fig = plt.figure()\n",
    "fig.set_size_inches(20,10)\n",
    "#ax = fig.add_subplot(111, projection='3d', aspect='equal')\n",
    "ax = fig.add_subplot(121, projection='3d')\n",
    "ax.view_init(azim=20)\n",
    "\n",
    "\n",
    "for i in np.arange(N):\n",
    "    xs=(Y0[i],Y1[i])\n",
    "    ys=(Z0[i],Z1[i])\n",
    "    zs=(X0[i],X1[i])\n",
    "    line = plt3d.art3d.Line3D(xs, ys, zs,color=\"red\")\n",
    "    ax.add_line(line)\n",
    "    \n",
    "ax.set_xlim3d(all_Y.min(), all_Y.max())\n",
    "ax.set_ylim3d(all_Z.min(), all_Z.max())\n",
    "ax.set_zlim3d(all_X.min(), all_X.max())\n",
    "ax.set_xlabel('Y (mm)')\n",
    "ax.set_ylabel('Z (mm)')\n",
    "ax.set_zlabel('X (mm)')\n",
    "ax.set_title('beams at scale')\n",
    "\n",
    "set_aspect_equal_3d(ax)   \n",
    "\n",
    "\n",
    "ax = fig.add_subplot(122, projection='3d')\n",
    "ax.view_init(azim=20)\n",
    "\n",
    "\n",
    "for i in np.arange(N):\n",
    "    xs=(Y0[i],Y1[i])\n",
    "    ys=(Z0[i],Z1[i])\n",
    "    zs=(X0[i],X1[i])\n",
    "    line = plt3d.art3d.Line3D(xs, ys, zs,color=\"red\")\n",
    "    ax.add_line(line)\n",
    "    \n",
    "ax.set_xlim3d(all_Y.min(), all_Y.max())\n",
    "ax.set_ylim3d(all_Z.min(), all_Z.max())\n",
    "ax.set_zlim3d(all_X.min(), all_X.max())\n",
    "ax.set_xlabel('Y (mm)')\n",
    "ax.set_ylabel('Z (mm)')\n",
    "ax.set_zlabel('X (mm)')\n",
    "ax.set_title('beams not at scale')\n",
    "\n",
    "#set_aspect_equal_3d(ax) \n",
    "\n",
    "plt.tight_layout()\n",
    "plt.suptitle(\"Squared beam\",Y=1.05,fontsize=25)"
   ]
  },
  {
   "cell_type": "code",
   "execution_count": null,
   "metadata": {},
   "outputs": [],
   "source": [
    "fig = plt.figure()\n",
    "fig.set_size_inches(20,10)\n",
    "#ax = fig.add_subplot(111, projection='3d', aspect='equal')\n",
    "ax = fig.add_subplot(121, projection='3d')\n",
    "ax.view_init(elev=0,azim=0)\n",
    "\n",
    "\n",
    "for i in np.arange(N):\n",
    "    xs=(Y0[i],Y1[i])\n",
    "    ys=(Z0[i],Z1[i])\n",
    "    zs=(X0[i],X1[i])\n",
    "    line = plt3d.art3d.Line3D(xs, ys, zs,color=\"red\")\n",
    "    ax.add_line(line)\n",
    "    \n",
    "ax.set_xlim3d(all_Y.min(), all_Y.max())\n",
    "ax.set_ylim3d(all_Z.min(), all_Z.max())\n",
    "ax.set_zlim3d(all_X.min(), all_X.max())\n",
    "ax.set_xlabel('Y (mm)')\n",
    "ax.set_ylabel('Z (mm)')\n",
    "ax.set_zlabel('X (mm)')\n",
    "ax.set_title('beams at scale')\n",
    "\n",
    "set_aspect_equal_3d(ax)   \n",
    "\n",
    "\n",
    "ax = fig.add_subplot(122, projection='3d')\n",
    "ax.view_init(elev=0,azim=0)\n",
    "\n",
    "\n",
    "for i in np.arange(N):\n",
    "    xs=(Y0[i],Y1[i])\n",
    "    ys=(Z0[i],Z1[i])\n",
    "    zs=(X0[i],X1[i])\n",
    "    line = plt3d.art3d.Line3D(xs, ys, zs,color=\"red\")\n",
    "    ax.add_line(line)\n",
    "    \n",
    "ax.set_xlim3d(all_Y.min(), all_Y.max())\n",
    "ax.set_ylim3d(all_Z.min(), all_Z.max())\n",
    "ax.set_zlim3d(all_X.min(), all_X.max())\n",
    "ax.set_xlabel('Y (mm)')\n",
    "ax.set_ylabel('Z (mm)')\n",
    "ax.set_zlabel('X (mm)')\n",
    "ax.set_title('beams not at scale')\n",
    "\n",
    "#set_aspect_equal_3d(ax) \n",
    "\n",
    "plt.tight_layout()\n",
    "plt.suptitle(\"Squared beam (longitudinal view)\",Y=1.05,fontsize=25)"
   ]
  },
  {
   "cell_type": "markdown",
   "metadata": {},
   "source": [
    "# Write file with Python string Formater"
   ]
  },
  {
   "cell_type": "code",
   "execution_count": null,
   "metadata": {},
   "outputs": [],
   "source": [
    "f = open(Beam4_Rayfile_RAY, 'w')"
   ]
  },
  {
   "cell_type": "code",
   "execution_count": null,
   "metadata": {},
   "outputs": [],
   "source": [
    "def header(N,filename):\n",
    "    \"\"\"\n",
    "    header(N,filename) : provide lines for the header of BeamFour Ray file.\n",
    "    - input :\n",
    "        - N : Number of beam rays\n",
    "        - filename : Ray filename\n",
    "    - output :\n",
    "       the three header lines\n",
    "    \n",
    "    The width of the column must be kept fixed. The width = 12 is chosen.\n",
    "    Note the : is the column separator used by BeamFour.\n",
    "    \n",
    "    \"\"\"\n",
    "    wd = ['X0', 'Y0', 'Z0','U0', 'V0', 'W0','@wave','X1', 'Y1', 'Z1','X2', 'Y2', 'Z2', 'X3', 'Y3', 'Z3','Xgoal','Ygoal','Xfinal','Yfinal','Zfinal','Notes']\n",
    "    wd2 = \"-----------:\"\n",
    "    \n",
    "    \n",
    "    line1 =\"{:d} {}\".format(N,filename)\n",
    "    line1+= os.linesep\n",
    "    \n",
    "    line2 = \"\"\n",
    "    Nwd=len(wd)\n",
    "    \n",
    "    for i in np.arange(Nwd):\n",
    "        line2+=f\"{wd[i]:^12}\"\n",
    "    line2+= os.linesep\n",
    "    \n",
    "    line3 = \"\"\n",
    "    for i in np.arange(Nwd-1):\n",
    "         line3+=f\"{wd2:^12}\"\n",
    "    line3+=\"------------------\"        \n",
    "            \n",
    "            \n",
    "    line3+= os.linesep\n",
    "        \n",
    "    return line1, line2, line3"
   ]
  },
  {
   "cell_type": "code",
   "execution_count": null,
   "metadata": {},
   "outputs": [],
   "source": [
    "def GetLine(x0,y0,z0,u0,v0,w0,wa):\n",
    "    \"\"\"\n",
    "    GetLine(x0,y0,z0,u0,v0,w0,wa) : provide the line format for each ray information.\n",
    "    \n",
    "    - input :\n",
    "       - (x0,y0,z0) : coordinates of rays at beam entrance in mm unit\n",
    "       - (u0,v0,w0) : cosinus director of rays at beam entrance\n",
    "       - wa         : wavelength of the beam ray in mm\n",
    "    \n",
    "    - output :\n",
    "       - the beam ray line.\n",
    "    \n",
    "    The width of the column must be kept fixed. The width = 12 is chosen.\n",
    "    Note the : is the column separator used by BeamFour. The column width include the separator :\n",
    "    \n",
    "    \"\"\"\n",
    "   \n",
    "    wd2 = \"-----------:\"\n",
    "    wd0 = \"           :\"\n",
    "    #line=f\"{x0: {11.5}}:\" + f\"{y0: {11.5}}:\" + f\"{z0: {11.5}}:\" + f\"{u0: {11.5}}:\" + f\"{v0: {11.5}}:\" + f\"{w0: {11.5}}:\" + f\"{wa: {11.5}}:\"\n",
    "    \n",
    "    line=f\"{x0: {11.5}}:\" + f\"{y0: {11.5}}:\" + f\"{z0: {11}}:\"+ f\"{u0: {11.5}}:\" + f\"{v0: {11.5}}:\" + f\"{w0: {11.5}}:\" + f\"{wa: {11.6}}:\"\n",
    "    \n",
    "    for i in np.arange(14):\n",
    "        line+=wd0\n",
    "        \n",
    "    line+=\"             \"\n",
    "    line+= os.linesep\n",
    "    \n",
    "    return line"
   ]
  },
  {
   "cell_type": "markdown",
   "metadata": {},
   "source": [
    "## Header"
   ]
  },
  {
   "cell_type": "code",
   "execution_count": null,
   "metadata": {},
   "outputs": [],
   "source": [
    "line1,line2,line3=header(NBEAM*NWL,Beam4_Rayfile_RAY)"
   ]
  },
  {
   "cell_type": "code",
   "execution_count": null,
   "metadata": {},
   "outputs": [],
   "source": [
    "f.write(line1)\n",
    "f.write(line2)\n",
    "f.write(line3)"
   ]
  },
  {
   "cell_type": "markdown",
   "metadata": {},
   "source": [
    "## Beam rays"
   ]
  },
  {
   "cell_type": "code",
   "execution_count": null,
   "metadata": {},
   "outputs": [],
   "source": [
    "# loop on wavelengths\n",
    "for iwl in np.arange(NWL):\n",
    "    wl=WL[iwl]*1e-6   # wavelength in mm\n",
    "    print(iwl,\" : wl=\",wl*1e6)\n",
    "    # loop on the NBEAM rays\n",
    "    for idx in np.arange(len(df)):\n",
    "        line4 =  GetLine(df[\"X0\"][idx],df[\"Y0\"][idx],df[\"Z0\"][idx],df[\"U0\"][idx],df[\"V0\"][idx],df[\"W0\"][idx],wl)\n",
    "        f.write(line4)\n",
    "        "
   ]
  },
  {
   "cell_type": "code",
   "execution_count": null,
   "metadata": {},
   "outputs": [],
   "source": [
    "f.close()"
   ]
  },
  {
   "cell_type": "code",
   "execution_count": null,
   "metadata": {},
   "outputs": [],
   "source": []
  }
 ],
 "metadata": {
  "kernelspec": {
   "display_name": "Python 3",
   "language": "python",
   "name": "python3"
  },
  "language_info": {
   "codemirror_mode": {
    "name": "ipython",
    "version": 3
   },
   "file_extension": ".py",
   "mimetype": "text/x-python",
   "name": "python",
   "nbconvert_exporter": "python",
   "pygments_lexer": "ipython3",
   "version": "3.7.7"
  }
 },
 "nbformat": 4,
 "nbformat_minor": 4
}
