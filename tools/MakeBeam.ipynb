{
 "cells": [
  {
   "cell_type": "markdown",
   "metadata": {},
   "source": [
    "# Make Beam for BeamFour"
   ]
  },
  {
   "cell_type": "code",
   "execution_count": 52,
   "metadata": {},
   "outputs": [],
   "source": [
    "import fortranformat as ff"
   ]
  },
  {
   "cell_type": "code",
   "execution_count": 53,
   "metadata": {},
   "outputs": [],
   "source": [
    "%matplotlib inline\n",
    "import matplotlib.pyplot as plt\n",
    "import numpy as np\n",
    "import os\n",
    "import matplotlib as mpl\n",
    "import pandas as pd\n",
    "import itertools"
   ]
  },
  {
   "cell_type": "code",
   "execution_count": 54,
   "metadata": {},
   "outputs": [],
   "source": [
    "from astropy import units as u\n",
    "from astropy.coordinates import Angle"
   ]
  },
  {
   "cell_type": "code",
   "execution_count": 55,
   "metadata": {},
   "outputs": [],
   "source": [
    "# to enlarge the sizes\n",
    "params = {'legend.fontsize': 'x-large',\n",
    "          'figure.figsize': (8, 8),\n",
    "         'axes.labelsize': 'x-large',\n",
    "         'axes.titlesize':'x-large',\n",
    "         'xtick.labelsize':'x-large',\n",
    "         'ytick.labelsize':'x-large'}\n",
    "plt.rcParams.update(params)"
   ]
  },
  {
   "cell_type": "markdown",
   "metadata": {},
   "source": [
    "# configuration of the Beam"
   ]
  },
  {
   "cell_type": "code",
   "execution_count": 56,
   "metadata": {},
   "outputs": [],
   "source": [
    "root_filename=\"Beam4_Rayfile_\""
   ]
  },
  {
   "cell_type": "code",
   "execution_count": 57,
   "metadata": {},
   "outputs": [],
   "source": [
    "# number of rays\n",
    "NBEAM_X=11\n",
    "NBEAM_Y=11\n",
    "NBEAM=NBEAM_X*NBEAM_Y"
   ]
  },
  {
   "cell_type": "code",
   "execution_count": 58,
   "metadata": {},
   "outputs": [],
   "source": [
    "Wavelength=np.arange(350,1101,50)\n",
    "WL=(Wavelength).astype(int)\n",
    "NWL=len(WL)"
   ]
  },
  {
   "cell_type": "code",
   "execution_count": 59,
   "metadata": {},
   "outputs": [
    {
     "data": {
      "text/plain": [
       "array([ 350,  400,  450,  500,  550,  600,  650,  700,  750,  800,  850,\n",
       "        900,  950, 1000, 1050, 1100])"
      ]
     },
     "execution_count": 59,
     "metadata": {},
     "output_type": "execute_result"
    }
   ],
   "source": [
    "WL"
   ]
  },
  {
   "cell_type": "code",
   "execution_count": 60,
   "metadata": {},
   "outputs": [],
   "source": [
    "theta_x=10*u.arcmin # target offset in arcmin\n",
    "#theta_x=0\n",
    "theta_y=1*u.arcmin # angle in arcmin "
   ]
  },
  {
   "cell_type": "code",
   "execution_count": 61,
   "metadata": {},
   "outputs": [],
   "source": [
    "theta_x_num=int(theta_x*100/u.arcmin)\n",
    "theta_y_num=int(theta_y*100/u.arcmin)"
   ]
  },
  {
   "cell_type": "code",
   "execution_count": 62,
   "metadata": {},
   "outputs": [],
   "source": [
    "if theta_x_num>0:\n",
    "    theta_nstr='{:0>2}'.format(theta_x_num)\n",
    "    theta_x_str=\"p\"+theta_nstr\n",
    "else:\n",
    "    theta_nstr='{:0>2}'.format(-theta_x_num)\n",
    "    theta_x_str=\"m\"+theta_nstr"
   ]
  },
  {
   "cell_type": "code",
   "execution_count": 63,
   "metadata": {},
   "outputs": [],
   "source": [
    "if theta_y_num>0:\n",
    "    theta_nstr='{:0>2}'.format(theta_y_num)\n",
    "    theta_y_str=\"p\"+theta_nstr\n",
    "else:\n",
    "    theta_nstr='{:0>2}'.format(-theta_y_num)\n",
    "    theta_y_str=\"m\"+theta_nstr"
   ]
  },
  {
   "cell_type": "code",
   "execution_count": 64,
   "metadata": {},
   "outputs": [],
   "source": [
    "Beam4_Rayfile_EXCEL=\"Beam4_Rayfile_{:d}_nwl{:d}_thx{}_thy{}.xlsx\".format(NBEAM,NWL,theta_x_str,theta_y_str)\n",
    "Beam4_Rayfile_RAY=\"Beam4_Rayfile_{:d}_nwl{:d}_thx{}_thy{}.RAY\".format(NBEAM,NWL,theta_x_str,theta_y_str)"
   ]
  },
  {
   "cell_type": "code",
   "execution_count": 65,
   "metadata": {},
   "outputs": [
    {
     "data": {
      "text/plain": [
       "'Beam4_Rayfile_121_nwl16_thxp1000_thyp100.xlsx'"
      ]
     },
     "execution_count": 65,
     "metadata": {},
     "output_type": "execute_result"
    }
   ],
   "source": [
    "Beam4_Rayfile_EXCEL"
   ]
  },
  {
   "cell_type": "code",
   "execution_count": 66,
   "metadata": {},
   "outputs": [
    {
     "data": {
      "text/plain": [
       "'Beam4_Rayfile_121_nwl16_thxp1000_thyp100.RAY'"
      ]
     },
     "execution_count": 66,
     "metadata": {},
     "output_type": "execute_result"
    }
   ],
   "source": [
    "Beam4_Rayfile_RAY"
   ]
  },
  {
   "cell_type": "markdown",
   "metadata": {},
   "source": [
    "# configuration of Telescope"
   ]
  },
  {
   "cell_type": "code",
   "execution_count": 67,
   "metadata": {},
   "outputs": [],
   "source": [
    "Tel_Focal_Length=21.6# m : Focal length of the telescope\n",
    "Tel_Diameter=1.2# m : Diameter of the telescope  "
   ]
  },
  {
   "cell_type": "code",
   "execution_count": 68,
   "metadata": {},
   "outputs": [],
   "source": [
    "Tel_Fnum=Tel_Focal_Length/Tel_Diameter"
   ]
  },
  {
   "cell_type": "code",
   "execution_count": 69,
   "metadata": {},
   "outputs": [
    {
     "name": "stdout",
     "output_type": "stream",
     "text": [
      "Aperture/D =  18.000000000000004 \n"
     ]
    }
   ],
   "source": [
    "print(\"Aperture/D =  {} \".format(Tel_Fnum))"
   ]
  },
  {
   "cell_type": "markdown",
   "metadata": {},
   "source": [
    "### distance between the entrance plane and the focal plane"
   ]
  },
  {
   "cell_type": "code",
   "execution_count": 70,
   "metadata": {},
   "outputs": [],
   "source": [
    "d=200  # here set to be in mm (the BeamFour length units)"
   ]
  },
  {
   "cell_type": "markdown",
   "metadata": {},
   "source": [
    "# Functions"
   ]
  },
  {
   "cell_type": "code",
   "execution_count": 71,
   "metadata": {},
   "outputs": [],
   "source": [
    "def EntranceBeamPopulation(nbeamx,nbeamy,f,D,d):\n",
    "    \"\"\"\n",
    "    EntranceBeamPopulation(nbeamx,nbeamy,thetax,thetay,f,D,d)\n",
    "    \n",
    "    input arguments :\n",
    "      - nbeamx : number of beam along x (should be odd, by example 11)\n",
    "      - nbeamy : number of beam along y (should be odd, by example 11)\n",
    "      - thetax : central beam angle along x in radian \n",
    "      - f : telescope focal length in m\n",
    "      - D : telescope diameter in m\n",
    "      - d : distance entrance (beam start) to focal plane. the unit of d is what we want\n",
    "      \n",
    "      \n",
    "    output arguments :\n",
    "      - return X,Y coordinate of beams relative to central beam (position (0,0)) in same unit as d\n",
    "    \"\"\"\n",
    "    \n",
    "    numberOfRows = nbeamx*nbeamy\n",
    "    \n",
    "    X=np.linspace(-D*d/2/f,D*d/2/f,nbeamx)\n",
    "    Y=np.linspace(-D*d/2/f,D*d/2/f,nbeamy)\n",
    "    \n",
    "    # need to alloc memory for the dataframe\n",
    "    df=pd.DataFrame(index=np.arange(0, numberOfRows),columns=['id','nx', 'ny', 'X0','Y0'])\n",
    "    \n",
    "    idx=0\n",
    "    for ny in np.arange(len(Y)):\n",
    "        for nx in np.arange(len(X)):         \n",
    "            df.iloc[idx]= [idx+1, nx,ny,X[nx],Y[ny]]\n",
    "            idx+=1\n",
    "            \n",
    "    \n",
    "    return df\n",
    "    "
   ]
  },
  {
   "cell_type": "code",
   "execution_count": 72,
   "metadata": {},
   "outputs": [],
   "source": [
    "def ComputeAngles(df_in,alphax,alphay,d):\n",
    "    \"\"\"\n",
    "    ComputeAngles(df_in,thetax,thetay,d)\n",
    "    \n",
    "    * input argument\n",
    "      - df_in\n",
    "      - thetax,thetay angles in radians\n",
    "      - d : distance entrance -focal point\n",
    "      \n",
    "    * output argument\n",
    "      -df\n",
    "    \n",
    "    \n",
    "    \"\"\"\n",
    "    tan_alphax_0=np.tan(alphax)\n",
    "    tan_alphay_0=np.tan(alphay)\n",
    "    x=np.asarray(df_in[\"X0\"].values).astype(np.float64)\n",
    "    y=np.asarray(df_in[\"Y0\"].values).astype(np.float64)\n",
    "    \n",
    "    tan_alphax=np.array(tan_alphax_0-x/d)\n",
    "    tan_alphay=np.array(tan_alphay_0-y/d)\n",
    "    \n",
    "    \n",
    "    Uz=1./(np.sqrt(1.+tan_alphax**2+tan_alphay**2))\n",
    "    Ux=tan_alphax*Uz\n",
    "    Uy=tan_alphay*Uz\n",
    "    \n",
    "    df=df_in\n",
    "    df[\"U0\"]=Ux\n",
    "    df[\"V0\"]=Uy\n",
    "    df[\"W0\"]=Uz\n",
    "    \n",
    "    return df\n",
    "    \n",
    "    \n",
    "    "
   ]
  },
  {
   "cell_type": "code",
   "execution_count": 73,
   "metadata": {},
   "outputs": [],
   "source": [
    "def SimulateSquareBeam(nbeamx,nbeamy,thetax,thetay,f,D,d):\n",
    "    \"\"\"\n",
    "    SimulateSquareBeam(nbeamx,nbeamy,thetax,thetay,f,D,d)\n",
    "    \n",
    "    input arguments :\n",
    "      - nbeamx : number of beam along x (should be odd, by example 11)\n",
    "      - nbeamy : number of beam along y (should be odd, by example 11)\n",
    "      - thetax : central beam angle along x in radian \n",
    "      - f : telescope focal length in m\n",
    "      - D : telescope diameter in m\n",
    "      - d : distance entrance (beam start) to focal plane   \n",
    "    \"\"\""
   ]
  },
  {
   "cell_type": "markdown",
   "metadata": {},
   "source": [
    "# compute"
   ]
  },
  {
   "cell_type": "markdown",
   "metadata": {},
   "source": [
    "## repartition of beams at entrance"
   ]
  },
  {
   "cell_type": "code",
   "execution_count": 74,
   "metadata": {},
   "outputs": [],
   "source": [
    "df=EntranceBeamPopulation(NBEAM_X,NBEAM_Y,Tel_Focal_Length,Tel_Diameter,d)"
   ]
  },
  {
   "cell_type": "code",
   "execution_count": 75,
   "metadata": {},
   "outputs": [
    {
     "data": {
      "text/plain": [
       "121"
      ]
     },
     "execution_count": 75,
     "metadata": {},
     "output_type": "execute_result"
    }
   ],
   "source": [
    "len(df)"
   ]
  },
  {
   "cell_type": "code",
   "execution_count": 76,
   "metadata": {},
   "outputs": [
    {
     "data": {
      "text/html": [
       "<div>\n",
       "<style scoped>\n",
       "    .dataframe tbody tr th:only-of-type {\n",
       "        vertical-align: middle;\n",
       "    }\n",
       "\n",
       "    .dataframe tbody tr th {\n",
       "        vertical-align: top;\n",
       "    }\n",
       "\n",
       "    .dataframe thead th {\n",
       "        text-align: right;\n",
       "    }\n",
       "</style>\n",
       "<table border=\"1\" class=\"dataframe\">\n",
       "  <thead>\n",
       "    <tr style=\"text-align: right;\">\n",
       "      <th></th>\n",
       "      <th>id</th>\n",
       "      <th>nx</th>\n",
       "      <th>ny</th>\n",
       "      <th>X0</th>\n",
       "      <th>Y0</th>\n",
       "    </tr>\n",
       "  </thead>\n",
       "  <tbody>\n",
       "    <tr>\n",
       "      <th>0</th>\n",
       "      <td>1</td>\n",
       "      <td>0</td>\n",
       "      <td>0</td>\n",
       "      <td>-5.55556</td>\n",
       "      <td>-5.55556</td>\n",
       "    </tr>\n",
       "    <tr>\n",
       "      <th>1</th>\n",
       "      <td>2</td>\n",
       "      <td>1</td>\n",
       "      <td>0</td>\n",
       "      <td>-4.44444</td>\n",
       "      <td>-5.55556</td>\n",
       "    </tr>\n",
       "    <tr>\n",
       "      <th>2</th>\n",
       "      <td>3</td>\n",
       "      <td>2</td>\n",
       "      <td>0</td>\n",
       "      <td>-3.33333</td>\n",
       "      <td>-5.55556</td>\n",
       "    </tr>\n",
       "    <tr>\n",
       "      <th>3</th>\n",
       "      <td>4</td>\n",
       "      <td>3</td>\n",
       "      <td>0</td>\n",
       "      <td>-2.22222</td>\n",
       "      <td>-5.55556</td>\n",
       "    </tr>\n",
       "    <tr>\n",
       "      <th>4</th>\n",
       "      <td>5</td>\n",
       "      <td>4</td>\n",
       "      <td>0</td>\n",
       "      <td>-1.11111</td>\n",
       "      <td>-5.55556</td>\n",
       "    </tr>\n",
       "    <tr>\n",
       "      <th>...</th>\n",
       "      <td>...</td>\n",
       "      <td>...</td>\n",
       "      <td>...</td>\n",
       "      <td>...</td>\n",
       "      <td>...</td>\n",
       "    </tr>\n",
       "    <tr>\n",
       "      <th>116</th>\n",
       "      <td>117</td>\n",
       "      <td>6</td>\n",
       "      <td>10</td>\n",
       "      <td>1.11111</td>\n",
       "      <td>5.55556</td>\n",
       "    </tr>\n",
       "    <tr>\n",
       "      <th>117</th>\n",
       "      <td>118</td>\n",
       "      <td>7</td>\n",
       "      <td>10</td>\n",
       "      <td>2.22222</td>\n",
       "      <td>5.55556</td>\n",
       "    </tr>\n",
       "    <tr>\n",
       "      <th>118</th>\n",
       "      <td>119</td>\n",
       "      <td>8</td>\n",
       "      <td>10</td>\n",
       "      <td>3.33333</td>\n",
       "      <td>5.55556</td>\n",
       "    </tr>\n",
       "    <tr>\n",
       "      <th>119</th>\n",
       "      <td>120</td>\n",
       "      <td>9</td>\n",
       "      <td>10</td>\n",
       "      <td>4.44444</td>\n",
       "      <td>5.55556</td>\n",
       "    </tr>\n",
       "    <tr>\n",
       "      <th>120</th>\n",
       "      <td>121</td>\n",
       "      <td>10</td>\n",
       "      <td>10</td>\n",
       "      <td>5.55556</td>\n",
       "      <td>5.55556</td>\n",
       "    </tr>\n",
       "  </tbody>\n",
       "</table>\n",
       "<p>121 rows × 5 columns</p>\n",
       "</div>"
      ],
      "text/plain": [
       "      id  nx  ny       X0       Y0\n",
       "0      1   0   0 -5.55556 -5.55556\n",
       "1      2   1   0 -4.44444 -5.55556\n",
       "2      3   2   0 -3.33333 -5.55556\n",
       "3      4   3   0 -2.22222 -5.55556\n",
       "4      5   4   0 -1.11111 -5.55556\n",
       "..   ...  ..  ..      ...      ...\n",
       "116  117   6  10  1.11111  5.55556\n",
       "117  118   7  10  2.22222  5.55556\n",
       "118  119   8  10  3.33333  5.55556\n",
       "119  120   9  10  4.44444  5.55556\n",
       "120  121  10  10  5.55556  5.55556\n",
       "\n",
       "[121 rows x 5 columns]"
      ]
     },
     "execution_count": 76,
     "metadata": {},
     "output_type": "execute_result"
    }
   ],
   "source": [
    "df"
   ]
  },
  {
   "cell_type": "markdown",
   "metadata": {},
   "source": [
    "## Orientation of beams"
   ]
  },
  {
   "cell_type": "code",
   "execution_count": 77,
   "metadata": {},
   "outputs": [],
   "source": [
    "alpha_x=Angle(theta_x)\n",
    "alpha_y=Angle(theta_y)"
   ]
  },
  {
   "cell_type": "code",
   "execution_count": 78,
   "metadata": {},
   "outputs": [],
   "source": [
    "df=ComputeAngles(df,alpha_x.radian,alpha_y.radian,d)"
   ]
  },
  {
   "cell_type": "code",
   "execution_count": 79,
   "metadata": {},
   "outputs": [
    {
     "data": {
      "text/html": [
       "<div>\n",
       "<style scoped>\n",
       "    .dataframe tbody tr th:only-of-type {\n",
       "        vertical-align: middle;\n",
       "    }\n",
       "\n",
       "    .dataframe tbody tr th {\n",
       "        vertical-align: top;\n",
       "    }\n",
       "\n",
       "    .dataframe thead th {\n",
       "        text-align: right;\n",
       "    }\n",
       "</style>\n",
       "<table border=\"1\" class=\"dataframe\">\n",
       "  <thead>\n",
       "    <tr style=\"text-align: right;\">\n",
       "      <th></th>\n",
       "      <th>id</th>\n",
       "      <th>nx</th>\n",
       "      <th>ny</th>\n",
       "      <th>X0</th>\n",
       "      <th>Y0</th>\n",
       "      <th>U0</th>\n",
       "      <th>V0</th>\n",
       "      <th>W0</th>\n",
       "    </tr>\n",
       "  </thead>\n",
       "  <tbody>\n",
       "    <tr>\n",
       "      <th>0</th>\n",
       "      <td>1</td>\n",
       "      <td>0</td>\n",
       "      <td>0</td>\n",
       "      <td>-5.55556</td>\n",
       "      <td>-5.55556</td>\n",
       "      <td>0.030660</td>\n",
       "      <td>0.028044</td>\n",
       "      <td>0.999136</td>\n",
       "    </tr>\n",
       "    <tr>\n",
       "      <th>1</th>\n",
       "      <td>2</td>\n",
       "      <td>1</td>\n",
       "      <td>0</td>\n",
       "      <td>-4.44444</td>\n",
       "      <td>-5.55556</td>\n",
       "      <td>0.025113</td>\n",
       "      <td>0.028049</td>\n",
       "      <td>0.999291</td>\n",
       "    </tr>\n",
       "    <tr>\n",
       "      <th>2</th>\n",
       "      <td>3</td>\n",
       "      <td>2</td>\n",
       "      <td>0</td>\n",
       "      <td>-3.33333</td>\n",
       "      <td>-5.55556</td>\n",
       "      <td>0.019564</td>\n",
       "      <td>0.028052</td>\n",
       "      <td>0.999415</td>\n",
       "    </tr>\n",
       "    <tr>\n",
       "      <th>3</th>\n",
       "      <td>4</td>\n",
       "      <td>3</td>\n",
       "      <td>0</td>\n",
       "      <td>-2.22222</td>\n",
       "      <td>-5.55556</td>\n",
       "      <td>0.014013</td>\n",
       "      <td>0.028055</td>\n",
       "      <td>0.999508</td>\n",
       "    </tr>\n",
       "    <tr>\n",
       "      <th>4</th>\n",
       "      <td>5</td>\n",
       "      <td>4</td>\n",
       "      <td>0</td>\n",
       "      <td>-1.11111</td>\n",
       "      <td>-5.55556</td>\n",
       "      <td>0.008461</td>\n",
       "      <td>0.028057</td>\n",
       "      <td>0.999571</td>\n",
       "    </tr>\n",
       "    <tr>\n",
       "      <th>...</th>\n",
       "      <td>...</td>\n",
       "      <td>...</td>\n",
       "      <td>...</td>\n",
       "      <td>...</td>\n",
       "      <td>...</td>\n",
       "      <td>...</td>\n",
       "      <td>...</td>\n",
       "      <td>...</td>\n",
       "    </tr>\n",
       "    <tr>\n",
       "      <th>116</th>\n",
       "      <td>117</td>\n",
       "      <td>6</td>\n",
       "      <td>10</td>\n",
       "      <td>1.11111</td>\n",
       "      <td>5.55556</td>\n",
       "      <td>-0.002646</td>\n",
       "      <td>-0.027476</td>\n",
       "      <td>0.999619</td>\n",
       "    </tr>\n",
       "    <tr>\n",
       "      <th>117</th>\n",
       "      <td>118</td>\n",
       "      <td>7</td>\n",
       "      <td>10</td>\n",
       "      <td>2.22222</td>\n",
       "      <td>5.55556</td>\n",
       "      <td>-0.008199</td>\n",
       "      <td>-0.027476</td>\n",
       "      <td>0.999589</td>\n",
       "    </tr>\n",
       "    <tr>\n",
       "      <th>118</th>\n",
       "      <td>119</td>\n",
       "      <td>8</td>\n",
       "      <td>10</td>\n",
       "      <td>3.33333</td>\n",
       "      <td>5.55556</td>\n",
       "      <td>-0.013751</td>\n",
       "      <td>-0.027474</td>\n",
       "      <td>0.999528</td>\n",
       "    </tr>\n",
       "    <tr>\n",
       "      <th>119</th>\n",
       "      <td>120</td>\n",
       "      <td>9</td>\n",
       "      <td>10</td>\n",
       "      <td>4.44444</td>\n",
       "      <td>5.55556</td>\n",
       "      <td>-0.019302</td>\n",
       "      <td>-0.027471</td>\n",
       "      <td>0.999436</td>\n",
       "    </tr>\n",
       "    <tr>\n",
       "      <th>120</th>\n",
       "      <td>121</td>\n",
       "      <td>10</td>\n",
       "      <td>10</td>\n",
       "      <td>5.55556</td>\n",
       "      <td>5.55556</td>\n",
       "      <td>-0.024852</td>\n",
       "      <td>-0.027468</td>\n",
       "      <td>0.999314</td>\n",
       "    </tr>\n",
       "  </tbody>\n",
       "</table>\n",
       "<p>121 rows × 8 columns</p>\n",
       "</div>"
      ],
      "text/plain": [
       "      id  nx  ny       X0       Y0        U0        V0        W0\n",
       "0      1   0   0 -5.55556 -5.55556  0.030660  0.028044  0.999136\n",
       "1      2   1   0 -4.44444 -5.55556  0.025113  0.028049  0.999291\n",
       "2      3   2   0 -3.33333 -5.55556  0.019564  0.028052  0.999415\n",
       "3      4   3   0 -2.22222 -5.55556  0.014013  0.028055  0.999508\n",
       "4      5   4   0 -1.11111 -5.55556  0.008461  0.028057  0.999571\n",
       "..   ...  ..  ..      ...      ...       ...       ...       ...\n",
       "116  117   6  10  1.11111  5.55556 -0.002646 -0.027476  0.999619\n",
       "117  118   7  10  2.22222  5.55556 -0.008199 -0.027476  0.999589\n",
       "118  119   8  10  3.33333  5.55556 -0.013751 -0.027474  0.999528\n",
       "119  120   9  10  4.44444  5.55556 -0.019302 -0.027471  0.999436\n",
       "120  121  10  10  5.55556  5.55556 -0.024852 -0.027468  0.999314\n",
       "\n",
       "[121 rows x 8 columns]"
      ]
     },
     "execution_count": 79,
     "metadata": {},
     "output_type": "execute_result"
    }
   ],
   "source": [
    "df"
   ]
  },
  {
   "cell_type": "markdown",
   "metadata": {},
   "source": [
    "### check the calculation of directions "
   ]
  },
  {
   "cell_type": "code",
   "execution_count": 80,
   "metadata": {},
   "outputs": [
    {
     "data": {
      "text/plain": [
       "0      1.0\n",
       "1      1.0\n",
       "2      1.0\n",
       "3      1.0\n",
       "4      1.0\n",
       "      ... \n",
       "116    1.0\n",
       "117    1.0\n",
       "118    1.0\n",
       "119    1.0\n",
       "120    1.0\n",
       "Length: 121, dtype: float64"
      ]
     },
     "execution_count": 80,
     "metadata": {},
     "output_type": "execute_result"
    }
   ],
   "source": [
    "# compute the norm\n",
    "df.apply(lambda x: np.sqrt(x.U0**2+x.V0**2+x.W0**2), axis=1)"
   ]
  },
  {
   "cell_type": "markdown",
   "metadata": {},
   "source": [
    "### beams at entrance"
   ]
  },
  {
   "cell_type": "code",
   "execution_count": 89,
   "metadata": {},
   "outputs": [
    {
     "data": {
      "image/png": "[encoded data removed]",
      "text/plain": [
       "<Figure size 1152x576 with 2 Axes>"
      ]
     },
     "metadata": {
      "needs_background": "light"
     },
     "output_type": "display_data"
    }
   ],
   "source": [
    "fig=plt.figure(figsize=(16,8))\n",
    "\n",
    "ax=fig.add_subplot(121)\n",
    "ax.scatter(df[\"X0\"].values,df[\"Y0\"].values,color=\"r\")\n",
    "ax.grid()\n",
    "ax.set_xlabel(\"X0 (mm)\")\n",
    "ax.set_ylabel(\"Y0 (mm)\")\n",
    "ax.set_title(\"Beams position at Entrance\")\n",
    "ax.set_aspect('equal')\n",
    "\n",
    "\n",
    "ax=fig.add_subplot(122)\n",
    "X=np.asarray(df[\"X0\"].values).astype(np.float64)\n",
    "Y=np.asarray(df[\"Y0\"].values).astype(np.float64)\n",
    "U=np.asarray(df[\"U0\"].values).astype(np.float64)\n",
    "V=np.asarray(df[\"V0\"].values).astype(np.float64)\n",
    "\n",
    "ax.quiver(X,Y,U,V,color=\"b\")\n",
    "ax.grid()\n",
    "ax.set_xlabel(\"X0 (mm)\")\n",
    "ax.set_ylabel(\"Y0 (mm)\")\n",
    "ax.set_title(\"Beams direction at Entrance\")\n",
    "ax.set_aspect('equal')\n"
   ]
  },
  {
   "cell_type": "markdown",
   "metadata": {},
   "source": [
    "## Compute focal point position ad Z=d"
   ]
  },
  {
   "cell_type": "code",
   "execution_count": 82,
   "metadata": {},
   "outputs": [],
   "source": [
    "df[\"X1\"]=df.apply(lambda x: (x.X0+d*x.U0/x.W0), axis=1)\n",
    "df[\"Y1\"]=df.apply(lambda x: (x.Y0+d*x.V0/x.W0), axis=1)\n",
    "df[\"Z1\"] = d"
   ]
  },
  {
   "cell_type": "code",
   "execution_count": 83,
   "metadata": {},
   "outputs": [
    {
     "data": {
      "text/html": [
       "<div>\n",
       "<style scoped>\n",
       "    .dataframe tbody tr th:only-of-type {\n",
       "        vertical-align: middle;\n",
       "    }\n",
       "\n",
       "    .dataframe tbody tr th {\n",
       "        vertical-align: top;\n",
       "    }\n",
       "\n",
       "    .dataframe thead th {\n",
       "        text-align: right;\n",
       "    }\n",
       "</style>\n",
       "<table border=\"1\" class=\"dataframe\">\n",
       "  <thead>\n",
       "    <tr style=\"text-align: right;\">\n",
       "      <th></th>\n",
       "      <th>id</th>\n",
       "      <th>nx</th>\n",
       "      <th>ny</th>\n",
       "      <th>X0</th>\n",
       "      <th>Y0</th>\n",
       "      <th>U0</th>\n",
       "      <th>V0</th>\n",
       "      <th>W0</th>\n",
       "      <th>X1</th>\n",
       "      <th>Y1</th>\n",
       "      <th>Z1</th>\n",
       "    </tr>\n",
       "  </thead>\n",
       "  <tbody>\n",
       "    <tr>\n",
       "      <th>0</th>\n",
       "      <td>1</td>\n",
       "      <td>0</td>\n",
       "      <td>0</td>\n",
       "      <td>-5.55556</td>\n",
       "      <td>-5.55556</td>\n",
       "      <td>0.030660</td>\n",
       "      <td>0.028044</td>\n",
       "      <td>0.999136</td>\n",
       "      <td>0.581778</td>\n",
       "      <td>0.058178</td>\n",
       "      <td>200</td>\n",
       "    </tr>\n",
       "    <tr>\n",
       "      <th>1</th>\n",
       "      <td>2</td>\n",
       "      <td>1</td>\n",
       "      <td>0</td>\n",
       "      <td>-4.44444</td>\n",
       "      <td>-5.55556</td>\n",
       "      <td>0.025113</td>\n",
       "      <td>0.028049</td>\n",
       "      <td>0.999291</td>\n",
       "      <td>0.581778</td>\n",
       "      <td>0.058178</td>\n",
       "      <td>200</td>\n",
       "    </tr>\n",
       "    <tr>\n",
       "      <th>2</th>\n",
       "      <td>3</td>\n",
       "      <td>2</td>\n",
       "      <td>0</td>\n",
       "      <td>-3.33333</td>\n",
       "      <td>-5.55556</td>\n",
       "      <td>0.019564</td>\n",
       "      <td>0.028052</td>\n",
       "      <td>0.999415</td>\n",
       "      <td>0.581778</td>\n",
       "      <td>0.058178</td>\n",
       "      <td>200</td>\n",
       "    </tr>\n",
       "    <tr>\n",
       "      <th>3</th>\n",
       "      <td>4</td>\n",
       "      <td>3</td>\n",
       "      <td>0</td>\n",
       "      <td>-2.22222</td>\n",
       "      <td>-5.55556</td>\n",
       "      <td>0.014013</td>\n",
       "      <td>0.028055</td>\n",
       "      <td>0.999508</td>\n",
       "      <td>0.581778</td>\n",
       "      <td>0.058178</td>\n",
       "      <td>200</td>\n",
       "    </tr>\n",
       "    <tr>\n",
       "      <th>4</th>\n",
       "      <td>5</td>\n",
       "      <td>4</td>\n",
       "      <td>0</td>\n",
       "      <td>-1.11111</td>\n",
       "      <td>-5.55556</td>\n",
       "      <td>0.008461</td>\n",
       "      <td>0.028057</td>\n",
       "      <td>0.999571</td>\n",
       "      <td>0.581778</td>\n",
       "      <td>0.058178</td>\n",
       "      <td>200</td>\n",
       "    </tr>\n",
       "    <tr>\n",
       "      <th>...</th>\n",
       "      <td>...</td>\n",
       "      <td>...</td>\n",
       "      <td>...</td>\n",
       "      <td>...</td>\n",
       "      <td>...</td>\n",
       "      <td>...</td>\n",
       "      <td>...</td>\n",
       "      <td>...</td>\n",
       "      <td>...</td>\n",
       "      <td>...</td>\n",
       "      <td>...</td>\n",
       "    </tr>\n",
       "    <tr>\n",
       "      <th>116</th>\n",
       "      <td>117</td>\n",
       "      <td>6</td>\n",
       "      <td>10</td>\n",
       "      <td>1.11111</td>\n",
       "      <td>5.55556</td>\n",
       "      <td>-0.002646</td>\n",
       "      <td>-0.027476</td>\n",
       "      <td>0.999619</td>\n",
       "      <td>0.581778</td>\n",
       "      <td>0.058178</td>\n",
       "      <td>200</td>\n",
       "    </tr>\n",
       "    <tr>\n",
       "      <th>117</th>\n",
       "      <td>118</td>\n",
       "      <td>7</td>\n",
       "      <td>10</td>\n",
       "      <td>2.22222</td>\n",
       "      <td>5.55556</td>\n",
       "      <td>-0.008199</td>\n",
       "      <td>-0.027476</td>\n",
       "      <td>0.999589</td>\n",
       "      <td>0.581778</td>\n",
       "      <td>0.058178</td>\n",
       "      <td>200</td>\n",
       "    </tr>\n",
       "    <tr>\n",
       "      <th>118</th>\n",
       "      <td>119</td>\n",
       "      <td>8</td>\n",
       "      <td>10</td>\n",
       "      <td>3.33333</td>\n",
       "      <td>5.55556</td>\n",
       "      <td>-0.013751</td>\n",
       "      <td>-0.027474</td>\n",
       "      <td>0.999528</td>\n",
       "      <td>0.581778</td>\n",
       "      <td>0.058178</td>\n",
       "      <td>200</td>\n",
       "    </tr>\n",
       "    <tr>\n",
       "      <th>119</th>\n",
       "      <td>120</td>\n",
       "      <td>9</td>\n",
       "      <td>10</td>\n",
       "      <td>4.44444</td>\n",
       "      <td>5.55556</td>\n",
       "      <td>-0.019302</td>\n",
       "      <td>-0.027471</td>\n",
       "      <td>0.999436</td>\n",
       "      <td>0.581778</td>\n",
       "      <td>0.058178</td>\n",
       "      <td>200</td>\n",
       "    </tr>\n",
       "    <tr>\n",
       "      <th>120</th>\n",
       "      <td>121</td>\n",
       "      <td>10</td>\n",
       "      <td>10</td>\n",
       "      <td>5.55556</td>\n",
       "      <td>5.55556</td>\n",
       "      <td>-0.024852</td>\n",
       "      <td>-0.027468</td>\n",
       "      <td>0.999314</td>\n",
       "      <td>0.581778</td>\n",
       "      <td>0.058178</td>\n",
       "      <td>200</td>\n",
       "    </tr>\n",
       "  </tbody>\n",
       "</table>\n",
       "<p>121 rows × 11 columns</p>\n",
       "</div>"
      ],
      "text/plain": [
       "      id  nx  ny       X0       Y0        U0        V0        W0        X1  \\\n",
       "0      1   0   0 -5.55556 -5.55556  0.030660  0.028044  0.999136  0.581778   \n",
       "1      2   1   0 -4.44444 -5.55556  0.025113  0.028049  0.999291  0.581778   \n",
       "2      3   2   0 -3.33333 -5.55556  0.019564  0.028052  0.999415  0.581778   \n",
       "3      4   3   0 -2.22222 -5.55556  0.014013  0.028055  0.999508  0.581778   \n",
       "4      5   4   0 -1.11111 -5.55556  0.008461  0.028057  0.999571  0.581778   \n",
       "..   ...  ..  ..      ...      ...       ...       ...       ...       ...   \n",
       "116  117   6  10  1.11111  5.55556 -0.002646 -0.027476  0.999619  0.581778   \n",
       "117  118   7  10  2.22222  5.55556 -0.008199 -0.027476  0.999589  0.581778   \n",
       "118  119   8  10  3.33333  5.55556 -0.013751 -0.027474  0.999528  0.581778   \n",
       "119  120   9  10  4.44444  5.55556 -0.019302 -0.027471  0.999436  0.581778   \n",
       "120  121  10  10  5.55556  5.55556 -0.024852 -0.027468  0.999314  0.581778   \n",
       "\n",
       "           Y1   Z1  \n",
       "0    0.058178  200  \n",
       "1    0.058178  200  \n",
       "2    0.058178  200  \n",
       "3    0.058178  200  \n",
       "4    0.058178  200  \n",
       "..        ...  ...  \n",
       "116  0.058178  200  \n",
       "117  0.058178  200  \n",
       "118  0.058178  200  \n",
       "119  0.058178  200  \n",
       "120  0.058178  200  \n",
       "\n",
       "[121 rows x 11 columns]"
      ]
     },
     "execution_count": 83,
     "metadata": {},
     "output_type": "execute_result"
    }
   ],
   "source": [
    "df"
   ]
  },
  {
   "cell_type": "code",
   "execution_count": 84,
   "metadata": {},
   "outputs": [],
   "source": [
    "\n"
   ]
  },
  {
   "cell_type": "code",
   "execution_count": null,
   "metadata": {},
   "outputs": [],
   "source": []
  },
  {
   "cell_type": "code",
   "execution_count": null,
   "metadata": {},
   "outputs": [],
   "source": []
  }
 ],
 "metadata": {
  "kernelspec": {
   "display_name": "Python 3",
   "language": "python",
   "name": "python3"
  },
  "language_info": {
   "codemirror_mode": {
    "name": "ipython",
    "version": 3
   },
   "file_extension": ".py",
   "mimetype": "text/x-python",
   "name": "python",
   "nbconvert_exporter": "python",
   "pygments_lexer": "ipython3",
   "version": "3.7.7"
  }
 },
 "nbformat": 4,
 "nbformat_minor": 4
}
