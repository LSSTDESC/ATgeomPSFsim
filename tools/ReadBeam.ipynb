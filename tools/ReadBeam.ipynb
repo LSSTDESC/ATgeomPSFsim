{
 "cells": [
  {
   "cell_type": "markdown",
   "metadata": {},
   "source": [
    "# Read Beam Ray of  BeamFour"
   ]
  },
  {
   "cell_type": "markdown",
   "metadata": {},
   "source": [
    "\n",
    "- author : Sylvie Dagoret-Campagne\n",
    "- creation date : August 29th 2020\n"
   ]
  },
  {
   "cell_type": "code",
   "execution_count": 15,
   "metadata": {},
   "outputs": [
    {
     "name": "stderr",
     "output_type": "stream",
     "text": [
      "2020-08-29 18:03:14 MacBook-Pro-de-admin.local matplotlib.pyplot[9310] DEBUG Loaded backend module://ipykernel.pylab.backend_inline version unknown.\n"
     ]
    }
   ],
   "source": [
    "%matplotlib inline\n",
    "import matplotlib.pyplot as plt\n",
    "import mpl_toolkits.mplot3d as plt3d\n",
    "import numpy as np\n",
    "import os\n",
    "import matplotlib as mpl\n",
    "import pandas as pd\n",
    "import itertools"
   ]
  },
  {
   "cell_type": "code",
   "execution_count": 16,
   "metadata": {},
   "outputs": [],
   "source": [
    "from astropy import units as u\n",
    "from astropy.coordinates import Angle"
   ]
  },
  {
   "cell_type": "code",
   "execution_count": 17,
   "metadata": {},
   "outputs": [],
   "source": [
    "import logging\n",
    "import coloredlogs\n",
    "import configparser"
   ]
  },
  {
   "cell_type": "code",
   "execution_count": 18,
   "metadata": {},
   "outputs": [],
   "source": [
    "logging.basicConfig()\n",
    "logging.root.setLevel(logging.NOTSET)\n",
    "#logging.basicConfig(level=logging.NOTSET) # both commands above are equivalent"
   ]
  },
  {
   "cell_type": "code",
   "execution_count": 19,
   "metadata": {},
   "outputs": [],
   "source": [
    "handle = __name__"
   ]
  },
  {
   "cell_type": "code",
   "execution_count": 20,
   "metadata": {},
   "outputs": [],
   "source": [
    "logger = logging.getLogger(handle)\n",
    "#logging.getLogger().setLevel(logging.INFO)\n",
    "logger.setLevel(logging.DEBUG)"
   ]
  },
  {
   "cell_type": "code",
   "execution_count": 21,
   "metadata": {},
   "outputs": [],
   "source": [
    "# If you don't want to see log messages from libraries, you can pass a\n",
    "# specific logger object to the install() function. In this case only log\n",
    "# messages originating from that logger will show up on the terminal.\n",
    "coloredlogs.install(level='DEBUG', logger=logger)"
   ]
  },
  {
   "cell_type": "code",
   "execution_count": 22,
   "metadata": {},
   "outputs": [],
   "source": [
    "# to enlarge the sizes\n",
    "params = {'legend.fontsize': 'x-large',\n",
    "          'figure.figsize': (8, 8),\n",
    "         'axes.labelsize': 'x-large',\n",
    "         'axes.titlesize':'x-large',\n",
    "         'xtick.labelsize':'x-large',\n",
    "         'ytick.labelsize':'x-large'}\n",
    "plt.rcParams.update(params)"
   ]
  },
  {
   "cell_type": "markdown",
   "metadata": {},
   "source": [
    "# configuration "
   ]
  },
  {
   "cell_type": "code",
   "execution_count": 23,
   "metadata": {},
   "outputs": [
    {
     "name": "stderr",
     "output_type": "stream",
     "text": [
      "2020-08-29 18:03:14 MacBook-Pro-de-admin.local __main__[9310] INFO Configuration\n"
     ]
    }
   ],
   "source": [
    "logger.info('Configuration')"
   ]
  },
  {
   "cell_type": "markdown",
   "metadata": {},
   "source": [
    "# Read ray file"
   ]
  },
  {
   "cell_type": "code",
   "execution_count": 24,
   "metadata": {},
   "outputs": [
    {
     "name": "stdout",
     "output_type": "stream",
     "text": [
      "Beam4_Rayfile_AT_121_nw31_thxp1000_thyp0000.RAY\r\n",
      "Beam4_Rayfile_CTIO_121_nw31_thxp1000_thyp0000.RAY\r\n",
      "HOE_Beam4_Rayfile_AT_121_nw31_thxp0000_thyp0000.RAY\r\n",
      "HOE_Beam4_Rayfile_CTIO_121_nw31_thxp0000_thyp0000.RAY\r\n"
     ]
    }
   ],
   "source": [
    "!ls *.RAY"
   ]
  },
  {
   "cell_type": "code",
   "execution_count": 25,
   "metadata": {},
   "outputs": [],
   "source": [
    "input_file=\"HOE_Beam4_Rayfile_AT_121_nw31_thxp0000_thyp0000.RAY\"\n",
    "#input_file=\"HOE_Beam4_Rayfile_CTIO_121_nw31_thxp0000_thyp0000.RAY\""
   ]
  },
  {
   "cell_type": "code",
   "execution_count": 41,
   "metadata": {},
   "outputs": [],
   "source": [
    "column_line=pd.read_csv(input_file,sep=\"\\t\", skiprows=1, nrows=0)"
   ]
  },
  {
   "cell_type": "code",
   "execution_count": 42,
   "metadata": {},
   "outputs": [
    {
     "data": {
      "text/html": [
       "<div>\n",
       "<style scoped>\n",
       "    .dataframe tbody tr th:only-of-type {\n",
       "        vertical-align: middle;\n",
       "    }\n",
       "\n",
       "    .dataframe tbody tr th {\n",
       "        vertical-align: top;\n",
       "    }\n",
       "\n",
       "    .dataframe thead th {\n",
       "        text-align: right;\n",
       "    }\n",
       "</style>\n",
       "<table border=\"1\" class=\"dataframe\">\n",
       "  <thead>\n",
       "    <tr style=\"text-align: right;\">\n",
       "      <th></th>\n",
       "      <th>X0         Y0         Z0         U0         V0         W0        @wave       X1         Y1         Z1         X2         Y2         Z2         X3         Y3         Z3        Xgoal      Ygoal     Xfinal     Yfinal     Zfinal      Notes</th>\n",
       "    </tr>\n",
       "  </thead>\n",
       "  <tbody>\n",
       "  </tbody>\n",
       "</table>\n",
       "</div>"
      ],
      "text/plain": [
       "Empty DataFrame\n",
       "Columns: [    X0         Y0         Z0         U0         V0         W0        @wave       X1         Y1         Z1         X2         Y2         Z2         X3         Y3         Z3        Xgoal      Ygoal     Xfinal     Yfinal     Zfinal      Notes]\n",
       "Index: []"
      ]
     },
     "execution_count": 42,
     "metadata": {},
     "output_type": "execute_result"
    }
   ],
   "source": [
    "column_line"
   ]
  },
  {
   "cell_type": "code",
   "execution_count": 44,
   "metadata": {},
   "outputs": [],
   "source": []
  },
  {
   "cell_type": "code",
   "execution_count": 47,
   "metadata": {},
   "outputs": [],
   "source": [
    "df=pd.read_csv(input_file,sep=\":\",header=2,names=[\"X0\", \"Y0\", \"Z0\", \"U0\", \"V0\", \"W0\", \"wave\", \"X1\",\"Y1\", \"Z1\", \"X2\",\"Y2\",\"Z2\",\"X3\",\"Y3\", \"Z3\", \"Xgoal\", \"Ygoal\", \"Xfinal\", \"Yfinal\", \"Zfinal\", \"Notes\"])"
   ]
  },
  {
   "cell_type": "code",
   "execution_count": 50,
   "metadata": {},
   "outputs": [
    {
     "name": "stderr",
     "output_type": "stream",
     "text": [
      "2020-08-29 18:25:39 MacBook-Pro-de-admin.local __main__[9310] DEBUG           X0      Y0     Z0        U0        V0       W0      wave      X1  \\\n",
      "0    -6.1111 -6.1111 -220.0  0.027756  0.027756  0.99923  0.000350 -6.1111   \n",
      "1    -4.8889 -6.1111 -220.0  0.022208  0.027760  0.99937  0.000350 -4.8889   \n",
      "2    -3.6667 -6.1111 -220.0  0.016658  0.027763  0.99948  0.000350 -3.6667   \n",
      "3    -2.4444 -6.1111 -220.0  0.011106  0.027765  0.99955  0.000350 -2.4444   \n",
      "4    -1.2222 -6.1111 -220.0  0.005553  0.027767  0.99960  0.000350 -1.2222   \n",
      "...      ...     ...    ...       ...       ...      ...       ...     ...   \n",
      "3590 -1.2222  2.4444 -220.0  0.005555 -0.011110  0.99992  0.001075 -1.2222   \n",
      "3591  0.0000  2.4444 -220.0 -0.000000 -0.011110  0.99994  0.001075  0.0000   \n",
      "3592  1.2222  2.4444 -220.0 -0.005555 -0.011110  0.99992  0.001075  1.2222   \n",
      "3593  2.4444  2.4444 -220.0 -0.011110 -0.011110  0.99988  0.001075  2.4444   \n",
      "3594  3.6667  2.4444 -220.0 -0.016663 -0.011109  0.99980  0.001075  3.6667   \n",
      "\n",
      "          Y1     Z1  ...     Z2        X3       Y3          Z3       Xgoal  \\\n",
      "0    -6.1111 -220.0  ... -200.0  10.89610 -0.00690     0.00000               \n",
      "1    -6.1111 -220.0  ... -200.0  10.90016 -0.00687     0.00000               \n",
      "2    -6.1111 -220.0  ... -200.0  10.90425 -0.00688     0.00000               \n",
      "3    -6.1111 -220.0  ... -200.0  10.90835 -0.00691     0.00000               \n",
      "4    -6.1111 -220.0  ... -200.0  10.91243 -0.00676     0.00000               \n",
      "...      ...    ...  ...    ...       ...      ...         ...         ...   \n",
      "3590  2.4444 -220.0  ... -200.0  33.97800 -0.01298     0.00000               \n",
      "3591  2.4444 -220.0  ... -200.0  33.95849 -0.01294     0.00000               \n",
      "3592  2.4444 -220.0  ... -200.0  33.93898 -0.01296     0.00000               \n",
      "3593  2.4444 -220.0  ... -200.0  33.91939 -0.01307     0.00000               \n",
      "3594  2.4444 -220.0  ... -200.0  33.90011 -0.01302     0.00000               \n",
      "\n",
      "           Ygoal    Xfinal   Yfinal  Zfinal  Notes  \n",
      "0                 10.89610 -0.00690     0.0   OK 3  \n",
      "1                 10.90016 -0.00687     0.0   OK 3  \n",
      "2                 10.90425 -0.00688     0.0   OK 3  \n",
      "3                 10.90835 -0.00691     0.0   OK 3  \n",
      "4                 10.91243 -0.00676     0.0   OK 3  \n",
      "...          ...       ...      ...     ...    ...  \n",
      "3590              33.97800 -0.01298     0.0   OK 3  \n",
      "3591              33.95849 -0.01294     0.0   OK 3  \n",
      "3592              33.93898 -0.01296     0.0   OK 3  \n",
      "3593              33.91939 -0.01307     0.0   OK 3  \n",
      "3594              33.90011 -0.01302     0.0   OK 3  \n",
      "\n",
      "[3595 rows x 22 columns]\n"
     ]
    }
   ],
   "source": [
    "logger.debug(df)"
   ]
  },
  {
   "cell_type": "code",
   "execution_count": null,
   "metadata": {},
   "outputs": [],
   "source": []
  }
 ],
 "metadata": {
  "kernelspec": {
   "display_name": "Python 3",
   "language": "python",
   "name": "python3"
  },
  "language_info": {
   "codemirror_mode": {
    "name": "ipython",
    "version": 3
   },
   "file_extension": ".py",
   "mimetype": "text/x-python",
   "name": "python",
   "nbconvert_exporter": "python",
   "pygments_lexer": "ipython3",
   "version": "3.7.7"
  }
 },
 "nbformat": 4,
 "nbformat_minor": 4
}
