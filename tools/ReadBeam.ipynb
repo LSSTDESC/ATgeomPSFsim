{
 "cells": [
  {
   "cell_type": "markdown",
   "metadata": {},
   "source": [
    "# Read Beam Ray of  BeamFour"
   ]
  },
  {
   "cell_type": "markdown",
   "metadata": {},
   "source": [
    "\n",
    "- author : Sylvie Dagoret-Campagne\n",
    "- creation date : August 29th 2020\n"
   ]
  },
  {
   "cell_type": "code",
   "execution_count": 1,
   "metadata": {},
   "outputs": [],
   "source": [
    "%matplotlib inline\n",
    "import matplotlib.pyplot as plt\n",
    "import mpl_toolkits.mplot3d as plt3d\n",
    "import numpy as np\n",
    "import os\n",
    "import matplotlib as mpl\n",
    "import pandas as pd\n",
    "import itertools"
   ]
  },
  {
   "cell_type": "code",
   "execution_count": 2,
   "metadata": {},
   "outputs": [],
   "source": [
    "from astropy import units as u\n",
    "from astropy.coordinates import Angle"
   ]
  },
  {
   "cell_type": "code",
   "execution_count": 3,
   "metadata": {},
   "outputs": [],
   "source": [
    "import logging\n",
    "import coloredlogs\n",
    "import configparser"
   ]
  },
  {
   "cell_type": "code",
   "execution_count": 4,
   "metadata": {},
   "outputs": [],
   "source": [
    "logging.basicConfig()\n",
    "logging.root.setLevel(logging.NOTSET)\n",
    "#logging.basicConfig(level=logging.NOTSET) # both commands above are equivalent"
   ]
  },
  {
   "cell_type": "code",
   "execution_count": 5,
   "metadata": {},
   "outputs": [],
   "source": [
    "handle = __name__"
   ]
  },
  {
   "cell_type": "code",
   "execution_count": 6,
   "metadata": {},
   "outputs": [],
   "source": [
    "logger = logging.getLogger(handle)\n",
    "#logging.getLogger().setLevel(logging.INFO)\n",
    "logger.setLevel(logging.DEBUG)"
   ]
  },
  {
   "cell_type": "code",
   "execution_count": 7,
   "metadata": {},
   "outputs": [],
   "source": [
    "# If you don't want to see log messages from libraries, you can pass a\n",
    "# specific logger object to the install() function. In this case only log\n",
    "# messages originating from that logger will show up on the terminal.\n",
    "coloredlogs.install(level='INFO', logger=logger)"
   ]
  },
  {
   "cell_type": "code",
   "execution_count": 8,
   "metadata": {},
   "outputs": [],
   "source": [
    "# to enlarge the sizes\n",
    "params = {'legend.fontsize': 'x-large',\n",
    "          'figure.figsize': (8, 8),\n",
    "         'axes.labelsize': 'x-large',\n",
    "         'axes.titlesize':'x-large',\n",
    "         'xtick.labelsize':'x-large',\n",
    "         'ytick.labelsize':'x-large'}\n",
    "plt.rcParams.update(params)"
   ]
  },
  {
   "cell_type": "code",
   "execution_count": 9,
   "metadata": {},
   "outputs": [],
   "source": [
    "def GetBeamParam(df):\n",
    "    X0C=df[\"X0\"].mean()\n",
    "    Y0C=df[\"Y0\"].mean()\n",
    "    RXMAX=np.max(np.abs(df[\"X0\"].values-X0C))\n",
    "    RYMAX=np.max(np.abs(df[\"Y0\"].values-Y0C))   \n",
    "    RMAX=np.max(np.array([RXMAX,RYMAX]))\n",
    "    return X0C,Y0C,RMAX"
   ]
  },
  {
   "cell_type": "code",
   "execution_count": 10,
   "metadata": {},
   "outputs": [],
   "source": [
    "def Select_Beam(row):\n",
    "    return (row[\"X0\"]-X0C)**2+(row[\"Y0\"]-Y0C)**2 <= RMAX**2"
   ]
  },
  {
   "cell_type": "markdown",
   "metadata": {},
   "source": [
    "# configuration "
   ]
  },
  {
   "cell_type": "code",
   "execution_count": 11,
   "metadata": {},
   "outputs": [
    {
     "name": "stderr",
     "output_type": "stream",
     "text": [
      "2020-09-07 18:35:32 MacBook-Pro-de-admin.local __main__[18586] INFO Configuration\n"
     ]
    }
   ],
   "source": [
    "logger.info('Configuration')"
   ]
  },
  {
   "cell_type": "markdown",
   "metadata": {},
   "source": [
    "# Read ray file"
   ]
  },
  {
   "cell_type": "code",
   "execution_count": 12,
   "metadata": {},
   "outputs": [
    {
     "name": "stdout",
     "output_type": "stream",
     "text": [
      "Beam4_Rayfile_AT_121_nw31_thxp1000_thyp0000.RAY\r\n",
      "Beam4_Rayfile_CTIO_121_nw31_thxp1000_thyp0000.RAY\r\n",
      "HOE_Beam4_Rayfile_AT_121_nw31_thxp0000_thyp0000.RAY\r\n",
      "HOE_Beam4_Rayfile_CTIO_121_nw31_thxp0000_thyp0000.RAY\r\n"
     ]
    }
   ],
   "source": [
    "!ls *.RAY"
   ]
  },
  {
   "cell_type": "code",
   "execution_count": 13,
   "metadata": {},
   "outputs": [],
   "source": [
    "input_file=\"HOE_Beam4_Rayfile_AT_121_nw31_thxp0000_thyp0000.RAY\"\n",
    "#input_file=\"HOE_Beam4_Rayfile_CTIO_121_nw31_thxp0000_thyp0000.RAY\""
   ]
  },
  {
   "cell_type": "code",
   "execution_count": 14,
   "metadata": {},
   "outputs": [],
   "source": [
    "column_line=pd.read_csv(input_file,sep=\"\\t\", skiprows=1, nrows=0)"
   ]
  },
  {
   "cell_type": "code",
   "execution_count": 15,
   "metadata": {},
   "outputs": [
    {
     "data": {
      "text/html": [
       "<div>\n",
       "<style scoped>\n",
       "    .dataframe tbody tr th:only-of-type {\n",
       "        vertical-align: middle;\n",
       "    }\n",
       "\n",
       "    .dataframe tbody tr th {\n",
       "        vertical-align: top;\n",
       "    }\n",
       "\n",
       "    .dataframe thead th {\n",
       "        text-align: right;\n",
       "    }\n",
       "</style>\n",
       "<table border=\"1\" class=\"dataframe\">\n",
       "  <thead>\n",
       "    <tr style=\"text-align: right;\">\n",
       "      <th></th>\n",
       "      <th>X0         Y0         Z0         U0         V0         W0        @wave       X1         Y1         Z1         X2         Y2         Z2         X3         Y3         Z3        Xgoal      Ygoal     Xfinal     Yfinal     Zfinal      Notes</th>\n",
       "    </tr>\n",
       "  </thead>\n",
       "  <tbody>\n",
       "  </tbody>\n",
       "</table>\n",
       "</div>"
      ],
      "text/plain": [
       "Empty DataFrame\n",
       "Columns: [    X0         Y0         Z0         U0         V0         W0        @wave       X1         Y1         Z1         X2         Y2         Z2         X3         Y3         Z3        Xgoal      Ygoal     Xfinal     Yfinal     Zfinal      Notes]\n",
       "Index: []"
      ]
     },
     "execution_count": 15,
     "metadata": {},
     "output_type": "execute_result"
    }
   ],
   "source": [
    "column_line"
   ]
  },
  {
   "cell_type": "code",
   "execution_count": null,
   "metadata": {},
   "outputs": [],
   "source": []
  },
  {
   "cell_type": "code",
   "execution_count": 16,
   "metadata": {},
   "outputs": [],
   "source": [
    "df=pd.read_csv(input_file,sep=\":\",header=2,names=[\"X0\", \"Y0\", \"Z0\", \"U0\", \"V0\", \"W0\", \"wave\", \"X1\",\"Y1\", \"Z1\", \"X2\",\"Y2\",\"Z2\",\"X3\",\"Y3\", \"Z3\", \"Xgoal\", \"Ygoal\", \"Xfinal\", \"Yfinal\", \"Zfinal\", \"Notes\"])"
   ]
  },
  {
   "cell_type": "code",
   "execution_count": 17,
   "metadata": {},
   "outputs": [],
   "source": [
    "logger.debug(df)"
   ]
  },
  {
   "cell_type": "code",
   "execution_count": 18,
   "metadata": {},
   "outputs": [],
   "source": [
    "X0=np.array(df[\"X0\"].values,dtype='float64')\n",
    "Y0=np.array(df[\"Y0\"].values,dtype='float64')\n",
    "V0=np.array(df[\"V0\"].values,dtype='float64')\n",
    "U0=np.array(df[\"U0\"].values,dtype='float64')"
   ]
  },
  {
   "cell_type": "code",
   "execution_count": 19,
   "metadata": {},
   "outputs": [
    {
     "data": {
      "text/plain": [
       "Text(0.5, 1.05, 'Square beam at Beam Entrance')"
      ]
     },
     "execution_count": 19,
     "metadata": {},
     "output_type": "execute_result"
    },
    {
     "data": {
      "image/png": "[encoded data removed]",
      "text/plain": [
       "<Figure size 1296x648 with 2 Axes>"
      ]
     },
     "metadata": {
      "needs_background": "light"
     },
     "output_type": "display_data"
    }
   ],
   "source": [
    "f, ((ax1, ax2)) = plt.subplots(1, 2,figsize=(18,9),sharex=True,sharey=True)\n",
    "df.plot.scatter(x=\"X0\", y=\"Y0\",c=\"DarkBlue\",marker=\"o\",ax=ax1)\n",
    "ax1.set_aspect(\"equal\")\n",
    "ax1.grid()\n",
    "\n",
    "q = ax2.quiver(X0,Y0, U0,V0,color=\"red\")\n",
    "ax2.set_aspect(\"equal\")\n",
    "ax2.set_xlabel(\"X0 (mm)\")\n",
    "ax2.grid()\n",
    "\n",
    "plt.tight_layout()\n",
    "plt.suptitle(\"Square beam at Beam Entrance\",fontsize=25,Y=1.05)"
   ]
  },
  {
   "cell_type": "code",
   "execution_count": 20,
   "metadata": {},
   "outputs": [],
   "source": [
    "wavemin=df[\"wave\"].min()"
   ]
  },
  {
   "cell_type": "code",
   "execution_count": 21,
   "metadata": {},
   "outputs": [],
   "source": [
    "df_sel=df[df[\"wave\"]==wavemin]  # use df_sel because the file is truncated"
   ]
  },
  {
   "cell_type": "code",
   "execution_count": 22,
   "metadata": {},
   "outputs": [],
   "source": [
    "X0C,Y0C,RMAX=GetBeamParam(df_sel)"
   ]
  },
  {
   "cell_type": "code",
   "execution_count": 23,
   "metadata": {},
   "outputs": [
    {
     "data": {
      "text/plain": [
       "0.0"
      ]
     },
     "execution_count": 23,
     "metadata": {},
     "output_type": "execute_result"
    }
   ],
   "source": [
    "X0C"
   ]
  },
  {
   "cell_type": "code",
   "execution_count": 24,
   "metadata": {},
   "outputs": [
    {
     "data": {
      "text/plain": [
       "-5.872254014546283e-17"
      ]
     },
     "execution_count": 24,
     "metadata": {},
     "output_type": "execute_result"
    }
   ],
   "source": [
    "Y0C"
   ]
  },
  {
   "cell_type": "code",
   "execution_count": 25,
   "metadata": {},
   "outputs": [],
   "source": [
    "df_filter=df.loc[df.apply(Select_Beam, axis=1)]"
   ]
  },
  {
   "cell_type": "code",
   "execution_count": 26,
   "metadata": {},
   "outputs": [],
   "source": [
    "X0=np.array(df_filter[\"X0\"].values,dtype='float64')\n",
    "Y0=np.array(df_filter[\"Y0\"].values,dtype='float64')\n",
    "V0=np.array(df_filter[\"V0\"].values,dtype='float64')\n",
    "U0=np.array(df_filter[\"U0\"].values,dtype='float64')"
   ]
  },
  {
   "cell_type": "code",
   "execution_count": 28,
   "metadata": {
    "scrolled": false
   },
   "outputs": [
    {
     "data": {
      "text/plain": [
       "Text(0.5, 0.98, 'Filtered circular beam at Beam Entrance')"
      ]
     },
     "execution_count": 28,
     "metadata": {},
     "output_type": "execute_result"
    },
    {
     "data": {
      "image/png": "[encoded data removed]",
      "text/plain": [
       "<Figure size 1296x648 with 2 Axes>"
      ]
     },
     "metadata": {
      "needs_background": "light"
     },
     "output_type": "display_data"
    }
   ],
   "source": [
    "f, ((ax1, ax2)) = plt.subplots(1, 2,figsize=(18,9),sharex=True,sharey=True)\n",
    "df_filter.plot.scatter(x=\"X0\", y=\"Y0\",c=\"DarkBlue\",marker=\"o\",ax=ax1)\n",
    "ax1.set_aspect(\"equal\")\n",
    "ax1.grid()\n",
    "\n",
    "q = ax2.quiver(X0,Y0, U0,V0,color=\"red\")\n",
    "ax2.set_aspect(\"equal\")\n",
    "ax2.set_xlabel(\"X0 (mm)\")\n",
    "ax2.grid()\n",
    "\n",
    "plt.suptitle(\"Filtered circular beam at Beam Entrance\",fontsize=25)"
   ]
  },
  {
   "cell_type": "code",
   "execution_count": null,
   "metadata": {},
   "outputs": [],
   "source": []
  }
 ],
 "metadata": {
  "kernelspec": {
   "display_name": "Python 3",
   "language": "python",
   "name": "python3"
  },
  "language_info": {
   "codemirror_mode": {
    "name": "ipython",
    "version": 3
   },
   "file_extension": ".py",
   "mimetype": "text/x-python",
   "name": "python",
   "nbconvert_exporter": "python",
   "pygments_lexer": "ipython3",
   "version": "3.7.7"
  }
 },
 "nbformat": 4,
 "nbformat_minor": 4
}
